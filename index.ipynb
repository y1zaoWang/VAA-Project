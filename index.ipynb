{
  "cells": [
    {
      "cell_type": "raw",
      "metadata": {},
      "source": [
        "---\n",
        "title: \"Finding NEMO\"\n",
        "title-block-banner: true\n",
        "toc: true\n",
        "---"
      ],
      "id": "39cdfcb2"
    },
    {
      "cell_type": "markdown",
      "metadata": {},
      "source": [
        "```{nomnoml}\n",
        "#stroke: #163759\n",
        "\n",
        "[Finding;NEMO] --[<abstract id=Title>Network-Enabled Maritime Observations]\n",
        "[Title] ->[<actor id=H>Hailey]\n",
        "[Title] -> [<actor id=L>Leonard]\n",
        "[Title] -> [<actor id=S>Shaun]\n",
        "\n",
        "```"
      ],
      "id": "27eb10dd"
    }
  ],
  "metadata": {
    "kernelspec": {
      "name": "python3",
      "language": "python",
      "display_name": "Python 3 (ipykernel)"
    }
  },
  "nbformat": 4,
  "nbformat_minor": 5
}